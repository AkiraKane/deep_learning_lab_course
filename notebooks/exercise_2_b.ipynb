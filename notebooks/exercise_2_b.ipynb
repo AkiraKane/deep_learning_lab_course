{
 "cells": [
  {
   "cell_type": "code",
   "execution_count": 4,
   "metadata": {
    "collapsed": false
   },
   "outputs": [],
   "source": [
    "import numpy as np\n",
    "import nn"
   ]
  },
  {
   "cell_type": "markdown",
   "metadata": {
    "collapsed": true
   },
   "source": [
    "# Implementing max pooling\n",
    "For the second part of the exercise you should implement a pooling operation. We will reuse the same example as in 2a only appling pooling rather than convolution."
   ]
  },
  {
   "cell_type": "markdown",
   "metadata": {},
   "source": [
    "First off implement pooling simliar to convolution as a function that takes an input tensor image and computes the max in small regions of size (pool_h, pool_w) with stride (sride_h, stride_w). In addition to computing the maximum you should also store the maximum locations. The easiest way to do this is to simply create a tensor that has the same size as the pool output and add two trailing dimensions for x and y position of the maximum (note that the maximum is channel wise). These switches are essential for implementing the backward pass later on!"
   ]
  },
  {
   "cell_type": "code",
   "execution_count": 12,
   "metadata": {
    "collapsed": false
   },
   "outputs": [],
   "source": [
    "def pool(imgs, poolout, switches, pool_h, pool_w, stride_y, stride_x):\n",
    "    \"\"\"\n",
    "    Parameters:\n",
    "    -----------\n",
    "    imgs: input tensor of size (batch_size, chan_in, height, width)\n",
    "    poolout: the output tensor of size (batch_size, chan_in, height//stride_y, width//stride_x)\n",
    "    switches: binary encoding of maximum positions, we store them in a tensor of size\n",
    "             (batch_size, chan_in, height//stride_y, width//stride_x, 2), \n",
    "             where the last two dimensions are used to specify y and x positions of the maximum element!\n",
    "    pool_h: the height of the pooling regions\n",
    "    pool_w: the width of the pooling regions\n",
    "    stride_y: the step size in y direction (e.g. if you want non-overlapping pooling set stride_y = pool_h)\n",
    "    stride_x: the step size in x direction\n",
    "    \n",
    "    \"\"\"\n",
    "    # TODO: implement pooling here\n",
    "    pass"
   ]
  },
  {
   "cell_type": "markdown",
   "metadata": {},
   "source": [
    "Once you implemented the above we can let it work on a simple minimal example of a (4,4) image with one channel."
   ]
  },
  {
   "cell_type": "code",
   "execution_count": 13,
   "metadata": {
    "collapsed": false
   },
   "outputs": [
    {
     "name": "stdout",
     "output_type": "stream",
     "text": [
      "(2, 1, 4, 4)\n"
     ]
    }
   ],
   "source": [
    "img = np.asarray([[1,2,3,4],[5,6,7,8],[9,10,11,12],[13,14,15,16]], dtype=np.float64).reshape(1,1,4,4)\n",
    "# remember the first dimension is the batch size here\n",
    "# lets repeat the image so that we get a more useful test\n",
    "imgs = np.repeat(img,2 , axis=0)\n",
    "print(imgs.shape)"
   ]
  },
  {
   "cell_type": "code",
   "execution_count": 21,
   "metadata": {
    "collapsed": false
   },
   "outputs": [
    {
     "name": "stdout",
     "output_type": "stream",
     "text": [
      "(2, 1, 2, 2)\n",
      "(2, 1, 2, 2, 2)\n"
     ]
    }
   ],
   "source": [
    "# to test we will pool in 2x2 regions with stride 2\n",
    "img_h = img.shape[2]\n",
    "img_w = img.shape[3]\n",
    "stride_y, stride_x = 2, 2\n",
    "pool_h, pool_w = 2, 2\n",
    "# this gives us output size\n",
    "poolout_h = img_h // stride_y\n",
    "poolout_w = img_w // stride_x\n",
    "# since we are doing same convolutions the output should be the same size as the input\n",
    "poolout = np.zeros((imgs.shape[0], imgs.shape[1], poolout_h, poolout_w))\n",
    "# also create storage for the switches\n",
    "switches = np.zeros(poolout.shape + (2,), dtype=np.int)\n",
    "print(poolout.shape)\n",
    "print(switches.shape)"
   ]
  },
  {
   "cell_type": "code",
   "execution_count": 31,
   "metadata": {
    "collapsed": false
   },
   "outputs": [],
   "source": [
    "# apply the pooling\n",
    "pool(imgs, poolout, switches, pool_h, pool_w, stride_y, stride_x)"
   ]
  },
  {
   "cell_type": "code",
   "execution_count": 25,
   "metadata": {
    "collapsed": false
   },
   "outputs": [
    {
     "name": "stdout",
     "output_type": "stream",
     "text": [
      "[[[[  6.   8.]\n",
      "   [ 14.  16.]]]\n",
      "\n",
      "\n",
      " [[[  6.   8.]\n",
      "   [ 14.  16.]]]]\n"
     ]
    }
   ],
   "source": [
    "# print the output and compare to the desired output\n",
    "print(poolout)"
   ]
  },
  {
   "cell_type": "code",
   "execution_count": 27,
   "metadata": {
    "collapsed": false
   },
   "outputs": [],
   "source": [
    "real_output = np.asarray(\n",
    "[[[[  6.,   8.],\n",
    "   [ 14.,  16.]]],\n",
    " [[[  6.,   8.],\n",
    "   [ 14.,  16.]]]], dtype=np.float64)"
   ]
  },
  {
   "cell_type": "code",
   "execution_count": 29,
   "metadata": {
    "collapsed": false
   },
   "outputs": [
    {
     "name": "stdout",
     "output_type": "stream",
     "text": [
      "Diff 0.0\n"
     ]
    }
   ],
   "source": [
    "diff = np.linalg.norm(real_output-poolout)\n",
    "# the difference between those should be smaller than eps\n",
    "eps = 1e-4\n",
    "print(\"Diff {}\".format(diff))\n",
    "assert(diff < eps)"
   ]
  },
  {
   "cell_type": "code",
   "execution_count": 30,
   "metadata": {
    "collapsed": false
   },
   "outputs": [
    {
     "name": "stdout",
     "output_type": "stream",
     "text": [
      "[[[[[1 1]\n",
      "    [1 3]]\n",
      "\n",
      "   [[3 1]\n",
      "    [3 3]]]]\n",
      "\n",
      "\n",
      "\n",
      " [[[[1 1]\n",
      "    [1 3]]\n",
      "\n",
      "   [[3 1]\n",
      "    [3 3]]]]]\n"
     ]
    }
   ],
   "source": [
    "# we can also take a look at the switches\n",
    "print(switches)"
   ]
  },
  {
   "cell_type": "code",
   "execution_count": null,
   "metadata": {
    "collapsed": true
   },
   "outputs": [],
   "source": []
  }
 ],
 "metadata": {
  "kernelspec": {
   "display_name": "Python 2",
   "language": "python",
   "name": "python2"
  },
  "language_info": {
   "codemirror_mode": {
    "name": "ipython",
    "version": 2
   },
   "file_extension": ".py",
   "mimetype": "text/x-python",
   "name": "python",
   "nbconvert_exporter": "python",
   "pygments_lexer": "ipython2",
   "version": "2.7.10+"
  }
 },
 "nbformat": 4,
 "nbformat_minor": 0
}
