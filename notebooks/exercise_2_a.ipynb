{
 "cells": [
  {
   "cell_type": "code",
   "execution_count": 1,
   "metadata": {
    "collapsed": false
   },
   "outputs": [],
   "source": [
    "import numpy as np\n",
    "import nn"
   ]
  },
  {
   "cell_type": "markdown",
   "metadata": {
    "collapsed": true
   },
   "source": [
    "# Implementing a simple convolution\n",
    "For the first part of the exercise you should try to get a feel for what a convolution and a dimensionality reduction (pooling does). We will always assume that we want zero padding around the input tensor (e.g. a \"same\" convolution)."
   ]
  },
  {
   "cell_type": "markdown",
   "metadata": {},
   "source": [
    "First off implement convolution in a simple function that takes an input tensor X convolves it with some filters (later the weights of a neural network) and writes the output into convout. Creating input and output of the correct size is later already partially handeled for you in the network code (have a look at nn/conv/layers.py)."
   ]
  },
  {
   "cell_type": "code",
   "execution_count": 2,
   "metadata": {
    "collapsed": true
   },
   "outputs": [],
   "source": [
    "def conv(image,filters,convout):\n",
    "    # TODO: implement convolution here\n",
    "    pass"
   ]
  },
  {
   "cell_type": "markdown",
   "metadata": {},
   "source": [
    "Once you implemented the above we can let it work on a simple minimal example of a (4,4) image with one channel."
   ]
  },
  {
   "cell_type": "code",
   "execution_count": 36,
   "metadata": {
    "collapsed": false
   },
   "outputs": [
    {
     "name": "stdout",
     "output_type": "stream",
     "text": [
      "(2, 1, 4, 4)\n"
     ]
    }
   ],
   "source": [
    "img = np.asarray([[1,2,3,4],[5,6,7,8],[9,10,11,12],[13,14,15,16]], dtype=np.float64).reshape(1,1,4,4)\n",
    "# remember the first dimension is the batch size here\n",
    "# lets repeat the image so that we get a more useful test\n",
    "imgs = np.repeat(img,2 , axis=0)\n",
    "print(imgs.shape)"
   ]
  },
  {
   "cell_type": "code",
   "execution_count": 44,
   "metadata": {
    "collapsed": false
   },
   "outputs": [
    {
     "name": "stdout",
     "output_type": "stream",
     "text": [
      "(1, 1, 3, 3)\n"
     ]
    }
   ],
   "source": [
    "# to test we will only use one (3,3) filter which does not fits into the (4,4) images so you need to do padding ;)\n",
    "# first dimension is input channels, second is the number of filters 3rd and 4th are filter dimensions\n",
    "filters = np.eye(3).reshape((1,1,3,3))\n",
    "print(filters.shape)"
   ]
  },
  {
   "cell_type": "code",
   "execution_count": 45,
   "metadata": {
    "collapsed": false
   },
   "outputs": [],
   "source": [
    "# since we are doing same convolutions the output should be the same size as the input\n",
    "convout = np.zeros_like(imgs)"
   ]
  },
  {
   "cell_type": "code",
   "execution_count": 52,
   "metadata": {
    "collapsed": false
   },
   "outputs": [],
   "source": [
    "# apply the convolution\n",
    "conv(imgs, filters, convout)"
   ]
  },
  {
   "cell_type": "code",
   "execution_count": 47,
   "metadata": {
    "collapsed": false
   },
   "outputs": [
    {
     "name": "stdout",
     "output_type": "stream",
     "text": [
      "[[[[  7.   9.  11.   4.]\n",
      "   [ 15.  18.  21.  11.]\n",
      "   [ 23.  30.  33.  19.]\n",
      "   [ 13.  23.  25.  27.]]]\n",
      "\n",
      "\n",
      " [[[  7.   9.  11.   4.]\n",
      "   [ 15.  18.  21.  11.]\n",
      "   [ 23.  30.  33.  19.]\n",
      "   [ 13.  23.  25.  27.]]]]\n"
     ]
    }
   ],
   "source": [
    "# print the output and compare to the desired output\n",
    "print(convout)"
   ]
  },
  {
   "cell_type": "code",
   "execution_count": 49,
   "metadata": {
    "collapsed": false
   },
   "outputs": [],
   "source": [
    "real_output = np.asarray(\n",
    "[[[[  7.,   9.,  11.,   4.],\n",
    "   [ 15.,  18.,  21.,  11.],\n",
    "   [ 23.,  30.,  33.,  19.],\n",
    "   [ 13.,  23.,  25.,  27.]]],\n",
    "\n",
    "\n",
    " [[[  7.,   9.,  11.,   4.],\n",
    "   [ 15.,  18.,  21.,  11.],\n",
    "   [ 23.,  30.,  33.,  19.],\n",
    "   [ 13.,  23.,  25.,  27.],]]], dtype=np.float64)"
   ]
  },
  {
   "cell_type": "code",
   "execution_count": 51,
   "metadata": {
    "collapsed": false
   },
   "outputs": [
    {
     "name": "stdout",
     "output_type": "stream",
     "text": [
      "Diff 0.0\n"
     ]
    }
   ],
   "source": [
    "diff = np.linalg.norm(real_output-convout)\n",
    "# the difference between those should be smaller than eps\n",
    "eps = 1e-4\n",
    "print(\"Diff {}\".format(diff))\n",
    "assert(diff < eps)"
   ]
  },
  {
   "cell_type": "markdown",
   "metadata": {},
   "source": []
  }
 ],
 "metadata": {
  "kernelspec": {
   "display_name": "Python 2",
   "language": "python",
   "name": "python2"
  },
  "language_info": {
   "codemirror_mode": {
    "name": "ipython",
    "version": 2
   },
   "file_extension": ".py",
   "mimetype": "text/x-python",
   "name": "python",
   "nbconvert_exporter": "python",
   "pygments_lexer": "ipython2",
   "version": "2.7.10+"
  }
 },
 "nbformat": 4,
 "nbformat_minor": 0
}
